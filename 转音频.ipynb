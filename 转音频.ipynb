{
 "cells": [
  {
   "cell_type": "code",
   "execution_count": 4,
   "id": "2e6177b1",
   "metadata": {},
   "outputs": [],
   "source": [
    "from moviepy.editor import *\n",
    "import pandas as pd \n",
    "\n",
    "import os "
   ]
  },
  {
   "cell_type": "code",
   "execution_count": 7,
   "id": "dab53cce",
   "metadata": {},
   "outputs": [],
   "source": [
    "video_df=pd.read_csv('video.csv',index_col=[0])\n",
    "\n",
    "\n",
    "head_path='yinpin/'"
   ]
  },
  {
   "cell_type": "code",
   "execution_count": 13,
   "id": "c3085ff7",
   "metadata": {},
   "outputs": [],
   "source": [
    "def get_course(name):\n",
    "    video_l=video_df[name].tolist()\n",
    "    os.makedirs(head_path+name,exist_ok=True)\n",
    "    return video_l"
   ]
  },
  {
   "cell_type": "code",
   "execution_count": null,
   "id": "3daad216",
   "metadata": {},
   "outputs": [],
   "source": [
    "name='信息存储与检索'\n",
    "video_l=get_course(name)\n",
    "for i in range(len(video_l)):\n",
    "    video = VideoFileClip(video_l[i].replace('\\\\',''))\n",
    "    audio = video.audio\n",
    "    audio.write_audiofile('%s/%s.wav'%(head_path+name,i))\n",
    "#audio.write_audiofile('test.mp3')"
   ]
  }
 ],
 "metadata": {
  "kernelspec": {
   "display_name": "Python(ffffff)",
   "language": "python",
   "name": "ffffff"
  },
  "language_info": {
   "codemirror_mode": {
    "name": "ipython",
    "version": 3
   },
   "file_extension": ".py",
   "mimetype": "text/x-python",
   "name": "python",
   "nbconvert_exporter": "python",
   "pygments_lexer": "ipython3",
   "version": "3.7.10"
  },
  "latex_envs": {
   "LaTeX_envs_menu_present": true,
   "autoclose": false,
   "autocomplete": true,
   "bibliofile": "biblio.bib",
   "cite_by": "apalike",
   "current_citInitial": 1,
   "eqLabelWithNumbers": true,
   "eqNumInitial": 1,
   "hotkeys": {
    "equation": "Ctrl-E",
    "itemize": "Ctrl-I"
   },
   "labels_anchors": false,
   "latex_user_defs": false,
   "report_style_numbering": false,
   "user_envs_cfg": false
  },
  "toc": {
   "base_numbering": 1,
   "nav_menu": {},
   "number_sections": true,
   "sideBar": true,
   "skip_h1_title": false,
   "title_cell": "Table of Contents",
   "title_sidebar": "Contents",
   "toc_cell": false,
   "toc_position": {},
   "toc_section_display": true,
   "toc_window_display": false
  },
  "varInspector": {
   "cols": {
    "lenName": 16,
    "lenType": 16,
    "lenVar": 40
   },
   "kernels_config": {
    "python": {
     "delete_cmd_postfix": "",
     "delete_cmd_prefix": "del ",
     "library": "var_list.py",
     "varRefreshCmd": "print(var_dic_list())"
    },
    "r": {
     "delete_cmd_postfix": ") ",
     "delete_cmd_prefix": "rm(",
     "library": "var_list.r",
     "varRefreshCmd": "cat(var_dic_list()) "
    }
   },
   "types_to_exclude": [
    "module",
    "function",
    "builtin_function_or_method",
    "instance",
    "_Feature"
   ],
   "window_display": false
  }
 },
 "nbformat": 4,
 "nbformat_minor": 5
}
