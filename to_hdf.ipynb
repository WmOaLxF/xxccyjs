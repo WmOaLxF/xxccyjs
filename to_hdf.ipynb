{
 "cells": [
  {
   "cell_type": "code",
   "execution_count": 2,
   "id": "5db91643-4522-4e77-9ba7-59b8f401c992",
   "metadata": {},
   "outputs": [
    {
     "name": "stdout",
     "output_type": "stream",
     "text": [
      "Requirement already satisfied: pkuseg in /Users/fangbowen/miniforge3/envs/py38/lib/python3.8/site-packages (0.0.25)\n",
      "Requirement already satisfied: numpy>=1.16.0 in /Users/fangbowen/miniforge3/envs/py38/lib/python3.8/site-packages (from pkuseg) (1.20.2)\n",
      "Requirement already satisfied: cython in /Users/fangbowen/miniforge3/envs/py38/lib/python3.8/site-packages (from pkuseg) (0.29.23)\n"
     ]
    }
   ],
   "source": [
    "!pip install pkuseg"
   ]
  },
  {
   "cell_type": "code",
   "execution_count": 37,
   "id": "8308da06-fc62-40e3-8a69-c8e74905ca05",
   "metadata": {},
   "outputs": [],
   "source": [
    "import pkuseg\n",
    "import os \n",
    "from functools import reduce\n",
    "seg = pkuseg.pkuseg()           # 加载web模型\n",
    "stop_dir='./stopwords/' #链接: https://pan.baidu.com/s/1lkpBp8JDTN14-Gnczi6_nA  密码: u21o--来自百度网盘超级会员V3的分享\n",
    "\n",
    "\n",
    "#加载停用词\n",
    "def read_f(file):\n",
    "    if '.txt' not in file: \n",
    "        return []\n",
    "    with open(file) as f: \n",
    "        stop_l=[i.strip('\\n') for i in f.readlines()]\n",
    "    return stop_l\n",
    "\n",
    "stop_l=reduce(lambda x,y: x+y,map(read_f,[stop_dir+t for t in os.listdir(stop_dir)]))\n",
    "stop_l+=[\"['\",\"']\"]"
   ]
  },
  {
   "cell_type": "code",
   "execution_count": 2,
   "id": "7de99c2e",
   "metadata": {},
   "outputs": [],
   "source": [
    "def my_cut(sentence):\n",
    "    return [i for i in seg.cut(sentence) if i not in stop_l]"
   ]
  },
  {
   "cell_type": "code",
   "execution_count": 3,
   "id": "b56853ea-4615-45b1-949c-d6908efbe253",
   "metadata": {},
   "outputs": [],
   "source": [
    "import pandas as pd\n",
    "from pathlib import Path"
   ]
  },
  {
   "cell_type": "code",
   "execution_count": 4,
   "id": "75650d84-cf58-4a60-8682-9d90a41e2d03",
   "metadata": {},
   "outputs": [],
   "source": [
    "DATA_STORE=Path('data.h5') "
   ]
  },
  {
   "cell_type": "markdown",
   "id": "edda191b",
   "metadata": {},
   "source": [
    "## 存入数据"
   ]
  },
  {
   "cell_type": "code",
   "execution_count": 5,
   "id": "9c16a0d6-478c-49f0-96ae-dc63b8acda2d",
   "metadata": {},
   "outputs": [],
   "source": [
    "idx = pd.IndexSlice\n",
    "num=1\n",
    "def get_by_index(num,only_all=False):\n",
    "    if num<10:\n",
    "        num='url%d'%num\n",
    "    else:\n",
    "        num=str(num)\n",
    "    with pd.HDFStore('./data.h5') as store:\n",
    "        if only_all:\n",
    "            all_df = (store['course/text/all/all_%s'%num])\n",
    "            return all_df \n",
    "        else:\n",
    "            all_df = (store['course/text/all/all_%s'%num])\n",
    "            time_df= (store['course/text/detail/detail_%s'%num])\n",
    "            return all_df,time_df "
   ]
  },
  {
   "cell_type": "code",
   "execution_count": 6,
   "id": "3b66f6c3",
   "metadata": {},
   "outputs": [],
   "source": [
    "vid_url=pd.read_csv('./url_.csv',header=None)"
   ]
  },
  {
   "cell_type": "markdown",
   "id": "ef56fe8c-0f62-4a9d-8c6a-b39ae8c0e3a3",
   "metadata": {},
   "source": [
    "### 存入url数据"
   ]
  },
  {
   "cell_type": "code",
   "execution_count": 8,
   "id": "e2c98c0d",
   "metadata": {},
   "outputs": [],
   "source": [
    "with pd.HDFStore(DATA_STORE) as store: \n",
    "    store.put('course/video/url',vid_url)"
   ]
  },
  {
   "cell_type": "code",
   "execution_count": 8,
   "id": "762cfa90",
   "metadata": {},
   "outputs": [],
   "source": [
    "with pd.HDFStore(DATA_STORE) as store:\n",
    "    url_=store['course/video/url']"
   ]
  },
  {
   "cell_type": "code",
   "execution_count": 9,
   "id": "640a5725",
   "metadata": {},
   "outputs": [
    {
     "data": {
      "text/plain": [
       "'https://vods.pku.edu.cn/vod/httpDownload/2021-05-10/379200F9481D92DBD429C1F9C5338565.mp4'"
      ]
     },
     "execution_count": 9,
     "metadata": {},
     "output_type": "execute_result"
    }
   ],
   "source": [
    "url_.iloc[1].values[0]"
   ]
  },
  {
   "cell_type": "code",
   "execution_count": 14,
   "id": "addf1636",
   "metadata": {},
   "outputs": [],
   "source": [
    "import os "
   ]
  },
  {
   "cell_type": "code",
   "execution_count": 27,
   "id": "be420b71-9579-4b4e-81cf-f34f95f8d123",
   "metadata": {},
   "outputs": [],
   "source": [
    "wb_all_path,wb_time_path='./文本数据/all/','./文本数据/detail/'\n",
    "all_list=os.listdir(wb_all_path)\n",
    "time_list=os.listdir(wb_time_path)\n",
    "all_list.sort()\n",
    "time_list.sort()\n",
    "\n",
    "with pd.HDFStore(DATA_STORE) as store:\n",
    "    for i in range(len(all_list)):\n",
    "        time_df=pd.read_csv(wb_time_path+time_list[i])\n",
    "        all_df=pd.read_csv(wb_all_path+all_list[i])\n",
    "        store.put('course/text/all/%s'%all_list[i][:-4],all_df)\n",
    "        store.put('course/text/detail/%s'%time_list[i][:-4],time_df)\n",
    "    store.put('course/text/len',pd.Series(len(all_list),name='length'))"
   ]
  },
  {
   "cell_type": "code",
   "execution_count": 29,
   "id": "33ffcea1",
   "metadata": {},
   "outputs": [],
   "source": [
    "with pd.HDFStore(DATA_STORE) as store:\n",
    "    tmep=store['course/text/len']"
   ]
  },
  {
   "cell_type": "markdown",
   "id": "e5132ab3",
   "metadata": {},
   "source": [
    "### 倒排索引"
   ]
  },
  {
   "cell_type": "code",
   "execution_count": 4,
   "id": "6f7c332c",
   "metadata": {},
   "outputs": [],
   "source": [
    "with pd.HDFStore(DATA_STORE) as store:\n",
    "    url_=store['course/video/url']"
   ]
  },
  {
   "cell_type": "code",
   "execution_count": 6,
   "id": "aabefab8",
   "metadata": {},
   "outputs": [],
   "source": [
    "import re "
   ]
  },
  {
   "cell_type": "code",
   "execution_count": 43,
   "id": "c0679fa8",
   "metadata": {},
   "outputs": [],
   "source": [
    "tokens=my_cut(all_df.result.values[0])"
   ]
  },
  {
   "cell_type": "code",
   "execution_count": 54,
   "id": "2a0ff0d3",
   "metadata": {
    "collapsed": true,
    "jupyter": {
     "outputs_hidden": true
    },
    "tags": []
   },
   "outputs": [
    {
     "name": "stdout",
     "output_type": "stream",
     "text": [
      "url0\n",
      "url1\n",
      "url2\n",
      "url3\n",
      "url4\n",
      "url5\n",
      "url6\n",
      "url7\n",
      "url8\n",
      "url9\n",
      "11\n",
      "12\n",
      "13\n",
      "14\n",
      "15\n",
      "16\n",
      "17\n",
      "18\n",
      "19\n",
      "20\n",
      "21\n",
      "22\n",
      "23\n",
      "24\n",
      "25\n",
      "26\n",
      "27\n",
      "28\n",
      "30\n",
      "31\n",
      "32\n",
      "33\n",
      "34\n",
      "35\n",
      "36\n",
      "38\n",
      "41\n",
      "42\n",
      "43\n",
      "44\n",
      "45\n",
      "46\n",
      "47\n"
     ]
    }
   ],
   "source": [
    "daopai_l=[]\n",
    "counter=0\n",
    "num=0\n",
    "with pd.HDFStore('./data.h5') as store:\n",
    "    while counter<store['course/text/len'].values[0]:\n",
    "        try:\n",
    "            all_df=get_by_index(num,only_all=True)\n",
    "            print(all_df.id.values[0])\n",
    "            counter+=1\n",
    "            num+=1\n",
    "            tokens=my_cut(all_df.result.values[0])\n",
    "            daopai_l.append((tokens,all_df.id.values[0]))\n",
    "        except KeyError:\n",
    "            num+=1\n",
    "        "
   ]
  },
  {
   "cell_type": "code",
   "execution_count": 73,
   "id": "ef49a3a9",
   "metadata": {
    "scrolled": true
   },
   "outputs": [],
   "source": [
    "with pd.HDFStore(DATA_STORE) as store:\n",
    "    store.put('course/text/daopai',pd.DataFrame(daopai_l,columns=['tokens','url_idx'],dtype=str))"
   ]
  },
  {
   "cell_type": "code",
   "execution_count": 34,
   "id": "f21c0f75",
   "metadata": {
    "scrolled": true
   },
   "outputs": [],
   "source": [
    "with pd.HDFStore(DATA_STORE) as store:\n",
    "    dd=store['course/text/daopai']"
   ]
  },
  {
   "cell_type": "markdown",
   "id": "64906cc9-3f55-497c-9704-887b10a71355",
   "metadata": {},
   "source": [
    "### 描述性"
   ]
  },
  {
   "cell_type": "code",
   "execution_count": 37,
   "id": "e05734a4",
   "metadata": {},
   "outputs": [],
   "source": [
    "meta={}\n",
    "for i in dd.url_idx.values:\n",
    "    if 'url' in i and i[-1]<'8':#0-7\n",
    "        meta[i]=['管理信息系统','管理/信息系统','陈文广','2021春倒数第%s节课'%i[-1]]\n",
    "    elif 'url' in i and i[-1]>='8':\n",
    "        meta[i]=['金融计量','金融/计量/时间序列','胡博','2021春倒数第%s'%(int(i[-1])-7)]\n",
    "    elif i in [str(j) for j in range(10,24)] :\n",
    "        meta[i]=['金融计量','金融/计量/时间序列','胡博','2021春倒数第%s'%(int(i)-9)]\n",
    "    elif i in [str(j) for j in range(24,35)]:\n",
    "        meta[i]=['Python数据分析','Python/数据分析','步一/孟凡','2021春倒数第%s'%(int(i)-23)]\n",
    "    elif i in [str(j) for j in range(35,49)]:\n",
    "        meta[i]=['信息存储与检索','信存检','赵丹群','2021春倒数第%s'%(int(i)-34)]"
   ]
  },
  {
   "cell_type": "code",
   "execution_count": 39,
   "id": "d6c2f441",
   "metadata": {},
   "outputs": [],
   "source": [
    "meta_df=pd.DataFrame(meta).T\n",
    "meta_df.columns=['name','kw','teacher','time']"
   ]
  },
  {
   "cell_type": "code",
   "execution_count": 40,
   "id": "9982b3a9",
   "metadata": {},
   "outputs": [],
   "source": [
    "with pd.HDFStore(DATA_STORE) as store:\n",
    "    store.put('course/meta',meta_df)"
   ]
  },
  {
   "cell_type": "code",
   "execution_count": 9,
   "id": "f0c043a0",
   "metadata": {},
   "outputs": [],
   "source": [
    "num='url8'\n",
    "with pd.HDFStore(DATA_STORE) as store:\n",
    "    time_df=store['course/text/detail/detail_%s'%num]"
   ]
  },
  {
   "cell_type": "code",
   "execution_count": 41,
   "id": "97eeb4ac",
   "metadata": {},
   "outputs": [],
   "source": [
    "with pd.HDFStore(DATA_STORE) as store:\n",
    "    url_=store['course/video/url']\n",
    "    dp=store['course/text/daopai']  \n",
    "    meta=store['course/meta']  "
   ]
  },
  {
   "cell_type": "markdown",
   "id": "e037c207-134e-47b4-9ec8-93206f7e595e",
   "metadata": {},
   "source": [
    "### TF-IDF"
   ]
  },
  {
   "cell_type": "code",
   "execution_count": 10,
   "id": "7467e9b5-0ecf-4b1a-aa49-4ba4cdd73830",
   "metadata": {},
   "outputs": [],
   "source": [
    "from sklearn.feature_extraction.text import TfidfVectorizer"
   ]
  },
  {
   "cell_type": "code",
   "execution_count": 25,
   "id": "0980f553-94b9-41d6-8ba2-f1ddcf2bb52a",
   "metadata": {},
   "outputs": [],
   "source": [
    "contain_=['url%s'%i for i in vid_url.index if i<10 ]+['%s'%i for i in vid_url.index if i>=10 ]"
   ]
  },
  {
   "cell_type": "code",
   "execution_count": 71,
   "id": "e7c9fb5e-7f1b-4ccc-8b55-90b691ac7e9f",
   "metadata": {},
   "outputs": [],
   "source": [
    "all_df=pd.DataFrame()\n",
    "contain_true=[]\n",
    "with pd.HDFStore(DATA_STORE) as store:\n",
    "    for i in contain_:\n",
    "        try:\n",
    "            all_df=all_df.append(store['course/text/all/all_%s'%i])\n",
    "            contain_true.append(i)\n",
    "        except KeyError:\n",
    "            continue"
   ]
  },
  {
   "cell_type": "code",
   "execution_count": 29,
   "id": "bf178423-1830-4303-a19d-76d88edaf7f6",
   "metadata": {},
   "outputs": [],
   "source": [
    "with pd.HDFStore(DATA_STORE) as store:\n",
    "    dp=store['course/text/daopai']"
   ]
  },
  {
   "cell_type": "code",
   "execution_count": 59,
   "id": "f125230b-8ba8-45ef-a2fb-dcdfb396a69b",
   "metadata": {},
   "outputs": [],
   "source": [
    "tv = TfidfVectorizer(use_idf=True, smooth_idf=True, norm=None)"
   ]
  },
  {
   "cell_type": "code",
   "execution_count": 52,
   "id": "54a942de-b4d9-48ff-98dd-28e85544b9f0",
   "metadata": {},
   "outputs": [],
   "source": [
    "corpus=dp.tokens.apply(lambda x:' '.join(eval(x))).tolist()"
   ]
  },
  {
   "cell_type": "code",
   "execution_count": 60,
   "id": "1d0c9139-9bfc-4aaa-a863-2ddebd443c72",
   "metadata": {},
   "outputs": [],
   "source": [
    "tf_idf=tv.fit(corpus)"
   ]
  },
  {
   "cell_type": "code",
   "execution_count": 62,
   "id": "0888b2b3-a4d6-4c0b-be78-478c6d5445ab",
   "metadata": {},
   "outputs": [],
   "source": [
    "corpus_vec=tf_idf.transform(corpus)"
   ]
  },
  {
   "cell_type": "code",
   "execution_count": 74,
   "id": "aae09074-afe7-40ba-ae15-2ea07702d192",
   "metadata": {},
   "outputs": [],
   "source": [
    "tf_idf_df=pd.DataFrame(corpus_vec.toarray(),columns=tf_idf.get_feature_names(),index=contain_true)"
   ]
  },
  {
   "cell_type": "code",
   "execution_count": 76,
   "id": "d917a20b-7a66-4bf8-9690-fa141afab374",
   "metadata": {},
   "outputs": [],
   "source": [
    "with pd.HDFStore(DATA_STORE) as store:\n",
    "    store.put('course/tfidf',tf_idf_df)"
   ]
  },
  {
   "cell_type": "code",
   "execution_count": 112,
   "id": "b03fe92b-482f-4e95-b4e0-747e01cee049",
   "metadata": {},
   "outputs": [],
   "source": [
    "#after cut\n",
    "def query_sort(input_):\n",
    "    tokens=my_cut(input_)\n",
    "    res_sr=reduce(lambda x,y:x+y,map(lambda x:tf_idf_df[x] if x in tf_idf_df.columns else 0,tokens))\n",
    "    try:\n",
    "        state=True\n",
    "        i=3\n",
    "        while state:\n",
    "            if res_sr.sort_values(ascending=False).iloc[i-1]!=0:\n",
    "                state=False\n",
    "                return res_sr.sort_values(ascending=False).iloc[:i].index.tolist()#url_index\n",
    "            else:\n",
    "                i-=1\n",
    "    except KeyError:#不在其中\n",
    "        return '未找到关键词'"
   ]
  },
  {
   "cell_type": "markdown",
   "id": "5c132849-c1bd-40ce-8e84-6b2ae69b9e83",
   "metadata": {},
   "source": [
    "### TF-IDF 文档向量"
   ]
  },
  {
   "cell_type": "code",
   "execution_count": 115,
   "id": "5b22613b-bb74-4c47-bd2d-0bb29659671a",
   "metadata": {},
   "outputs": [],
   "source": [
    "tf_idf_corr=tf_idf_df.T.corr()"
   ]
  },
  {
   "cell_type": "code",
   "execution_count": 116,
   "id": "ecb60134-e28e-4463-90c0-2f19ab15139a",
   "metadata": {},
   "outputs": [],
   "source": [
    "with pd.HDFStore(DATA_STORE) as store:\n",
    "    store.put('course/tfidf_corr',tf_idf_corr)"
   ]
  },
  {
   "cell_type": "markdown",
   "id": "60847b04-0af8-4ca4-a3b9-a238f29ff7a2",
   "metadata": {},
   "source": [
    "### word2vec 词向量"
   ]
  },
  {
   "cell_type": "code",
   "execution_count": null,
   "id": "7505e6bd-1125-44f6-b4d8-149cfccf5a31",
   "metadata": {},
   "outputs": [],
   "source": [
    "!pip install gensim"
   ]
  },
  {
   "cell_type": "code",
   "execution_count": 12,
   "id": "f01fd3cf-3c14-4c78-8acc-2be841ef2130",
   "metadata": {},
   "outputs": [],
   "source": [
    "from gensim.models import Word2Vec,word2vec\n",
    "from functools import reduce"
   ]
  },
  {
   "cell_type": "code",
   "execution_count": 15,
   "id": "ac8b4ef8-23fc-4c7c-82ff-adefe8611dfe",
   "metadata": {},
   "outputs": [],
   "source": [
    "contain_=['url%s'%i for i in vid_url.index if i<10 ]+['%s'%i for i in vid_url.index if i>=10 ]"
   ]
  },
  {
   "cell_type": "code",
   "execution_count": 50,
   "id": "b61147b4-a6b8-4000-8236-ccb8fd35cf3c",
   "metadata": {},
   "outputs": [],
   "source": [
    "def detail_to_corpus(detail_df):\n",
    "    return ' '.join(reduce(lambda x,y:x+['\\n']+y,detail_df.res.apply(my_cut)))"
   ]
  },
  {
   "cell_type": "code",
   "execution_count": 51,
   "id": "4c408b76-e757-4695-a8b0-8080ce93fbb8",
   "metadata": {},
   "outputs": [],
   "source": [
    "contain_true=[]\n",
    "with pd.HDFStore(DATA_STORE) as store:\n",
    "    for i in contain_:\n",
    "        try:\n",
    "            detail_df=store['course/text/detail/detail_%s'%i]\n",
    "            contain_true.append(i)\n",
    "            with open('./word2vec/corpus/%s.txt'%i,'w+') as f:\n",
    "                f.write(detail_to_corpus(detail_df))\n",
    "        except KeyError:\n",
    "            continue"
   ]
  },
  {
   "cell_type": "code",
   "execution_count": 54,
   "id": "2d529a3d-4efd-47d9-80f7-6948b10ed689",
   "metadata": {},
   "outputs": [],
   "source": [
    "from tqdm import tqdm"
   ]
  },
  {
   "cell_type": "code",
   "execution_count": 89,
   "id": "a7984f01-fbfd-4bf2-9774-c737edc57de8",
   "metadata": {},
   "outputs": [
    {
     "name": "stderr",
     "output_type": "stream",
     "text": [
      "100%|██████████| 43/43 [00:01<00:00, 33.57it/s]\n"
     ]
    }
   ],
   "source": [
    "corpus_path='./word2vec/corpus/'\n",
    "text_list=os.listdir(corpus_path)\n",
    "for t in tqdm(text_list):\n",
    "    if '.txt' in t:\n",
    "        sentences=word2vec.Text8Corpus(corpus_path+t)\n",
    "        w2v_model=Word2Vec(sentences=sentences,min_count=5,window=5,vector_size=50)\n",
    "        w2v_model.save('./word2vec/model/%s.model'%t[:-4])"
   ]
  },
  {
   "cell_type": "code",
   "execution_count": 90,
   "id": "fd19483c-319d-480e-b8e5-ec827ea1c1a9",
   "metadata": {},
   "outputs": [
    {
     "data": {
      "text/plain": [
       "'/Users/fangbowen/Desktop/学校文件夹/21春/信息检索/v3/v3/test/static/temp_wordcloud.html'"
      ]
     },
     "execution_count": 90,
     "metadata": {},
     "output_type": "execute_result"
    }
   ],
   "source": [
    "wc=WordCloud().add('相关词云',anl)\n",
    "wc.render('./static/temp_wordcloud.html')"
   ]
  },
  {
   "cell_type": "code",
   "execution_count": null,
   "id": "b32ff585-a198-481b-b4da-460fb636d9f8",
   "metadata": {},
   "outputs": [],
   "source": []
  }
 ],
 "metadata": {
  "kernelspec": {
   "display_name": "Python(ffffff)",
   "language": "python",
   "name": "ffffff"
  },
  "language_info": {
   "codemirror_mode": {
    "name": "ipython",
    "version": 3
   },
   "file_extension": ".py",
   "mimetype": "text/x-python",
   "name": "python",
   "nbconvert_exporter": "python",
   "pygments_lexer": "ipython3",
   "version": "3.7.10"
  },
  "latex_envs": {
   "LaTeX_envs_menu_present": true,
   "autoclose": false,
   "autocomplete": true,
   "bibliofile": "biblio.bib",
   "cite_by": "apalike",
   "current_citInitial": 1,
   "eqLabelWithNumbers": true,
   "eqNumInitial": 1,
   "hotkeys": {
    "equation": "Ctrl-E",
    "itemize": "Ctrl-I"
   },
   "labels_anchors": false,
   "latex_user_defs": false,
   "report_style_numbering": false,
   "user_envs_cfg": false
  },
  "toc": {
   "base_numbering": 1,
   "nav_menu": {},
   "number_sections": true,
   "sideBar": true,
   "skip_h1_title": false,
   "title_cell": "Table of Contents",
   "title_sidebar": "Contents",
   "toc_cell": false,
   "toc_position": {},
   "toc_section_display": true,
   "toc_window_display": false
  },
  "varInspector": {
   "cols": {
    "lenName": 16,
    "lenType": 16,
    "lenVar": 40
   },
   "kernels_config": {
    "python": {
     "delete_cmd_postfix": "",
     "delete_cmd_prefix": "del ",
     "library": "var_list.py",
     "varRefreshCmd": "print(var_dic_list())"
    },
    "r": {
     "delete_cmd_postfix": ") ",
     "delete_cmd_prefix": "rm(",
     "library": "var_list.r",
     "varRefreshCmd": "cat(var_dic_list()) "
    }
   },
   "types_to_exclude": [
    "module",
    "function",
    "builtin_function_or_method",
    "instance",
    "_Feature"
   ],
   "window_display": false
  }
 },
 "nbformat": 4,
 "nbformat_minor": 5
}
