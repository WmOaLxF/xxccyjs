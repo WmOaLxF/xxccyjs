{
 "cells": [
  {
   "cell_type": "code",
   "execution_count": null,
   "id": "3c9faf0f-ce98-4585-87d2-a6038ce520be",
   "metadata": {},
   "outputs": [],
   "source": [
    "!pip install pkuseg"
   ]
  },
  {
   "cell_type": "code",
   "execution_count": 4,
   "id": "78853db0-6b87-4b56-9ccd-10877d2861e4",
   "metadata": {},
   "outputs": [],
   "source": [
    "import pkuseg\n",
    "import os \n",
    "from functools import reduce\n",
    "seg = pkuseg.pkuseg()           # 加载web模型\n",
    "stop_dir='./stopwords/' #链接: https://pan.baidu.com/s/1lkpBp8JDTN14-Gnczi6_nA  密码: u21o--来自百度网盘超级会员V3的分享\n",
    "\n",
    "\n",
    "#加载停用词\n",
    "def read_f(file):\n",
    "    if '.txt' not in file: \n",
    "        return []\n",
    "    with open(file) as f: \n",
    "        stop_l=[i.strip('\\n') for i in f.readlines()]\n",
    "    return stop_l\n",
    "\n",
    "stop_l=reduce(lambda x,y: x+y,map(read_f,[stop_dir+t for t in os.listdir(stop_dir)]))\n",
    "\n",
    "def my_cut(sentence):\n",
    "    return [i for i in seg.cut(sentence) if i not in stop_l]"
   ]
  }
 ],
 "metadata": {
  "kernelspec": {
   "display_name": "Python(ffffff)",
   "language": "python",
   "name": "ffffff"
  },
  "language_info": {
   "codemirror_mode": {
    "name": "ipython",
    "version": 3
   },
   "file_extension": ".py",
   "mimetype": "text/x-python",
   "name": "python",
   "nbconvert_exporter": "python",
   "pygments_lexer": "ipython3",
   "version": "3.7.10"
  },
  "latex_envs": {
   "LaTeX_envs_menu_present": true,
   "autoclose": false,
   "autocomplete": true,
   "bibliofile": "biblio.bib",
   "cite_by": "apalike",
   "current_citInitial": 1,
   "eqLabelWithNumbers": true,
   "eqNumInitial": 1,
   "hotkeys": {
    "equation": "Ctrl-E",
    "itemize": "Ctrl-I"
   },
   "labels_anchors": false,
   "latex_user_defs": false,
   "report_style_numbering": false,
   "user_envs_cfg": false
  },
  "toc": {
   "base_numbering": 1,
   "nav_menu": {},
   "number_sections": true,
   "sideBar": true,
   "skip_h1_title": false,
   "title_cell": "Table of Contents",
   "title_sidebar": "Contents",
   "toc_cell": false,
   "toc_position": {},
   "toc_section_display": true,
   "toc_window_display": false
  },
  "varInspector": {
   "cols": {
    "lenName": 16,
    "lenType": 16,
    "lenVar": 40
   },
   "kernels_config": {
    "python": {
     "delete_cmd_postfix": "",
     "delete_cmd_prefix": "del ",
     "library": "var_list.py",
     "varRefreshCmd": "print(var_dic_list())"
    },
    "r": {
     "delete_cmd_postfix": ") ",
     "delete_cmd_prefix": "rm(",
     "library": "var_list.r",
     "varRefreshCmd": "cat(var_dic_list()) "
    }
   },
   "types_to_exclude": [
    "module",
    "function",
    "builtin_function_or_method",
    "instance",
    "_Feature"
   ],
   "window_display": false
  }
 },
 "nbformat": 4,
 "nbformat_minor": 5
}
